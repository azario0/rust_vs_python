{
 "cells": [
  {
   "cell_type": "markdown",
   "metadata": {},
   "source": [
    ":dep rand\n",
    "\n",
    "    used to add dependencies to the Rust environment.\n",
    "\n",
    "use rand::Rng;\n",
    "\n",
    "    This line imports the Rng trait from the rand crate.\n",
    "\n",
    "use std::time::Instant;\n",
    "\n",
    "    This line imports the Instant type from the \n",
    "    std::time module in Rust's standard library."
   ]
  },
  {
   "cell_type": "code",
   "execution_count": 3,
   "metadata": {
    "vscode": {
     "languageId": "rust"
    }
   },
   "outputs": [],
   "source": [
    ":dep rand\n",
    "use rand::Rng;\n",
    "use std::time::Instant;"
   ]
  },
  {
   "cell_type": "markdown",
   "metadata": {},
   "source": [
    "#### Generates a vector of random integers.\n",
    "\n",
    "#### Defines a function to check if a slice of integers is sorted."
   ]
  },
  {
   "cell_type": "code",
   "execution_count": 4,
   "metadata": {
    "vscode": {
     "languageId": "rust"
    }
   },
   "outputs": [],
   "source": [
    "let data_size = 10000;\n",
    "let data: Vec<i32> = (0..data_size)\n",
    "    .map(|_| rand::thread_rng().gen_range(1..=10000))\n",
    "    .collect();\n",
    "\n",
    "fn is_sorted(arr: &[i32]) -> bool {\n",
    "    arr.windows(2).all(|w| w[0] <= w[1])\n",
    "}"
   ]
  },
  {
   "cell_type": "markdown",
   "metadata": {},
   "source": [
    "### Bubble Sort"
   ]
  },
  {
   "cell_type": "code",
   "execution_count": 5,
   "metadata": {
    "vscode": {
     "languageId": "rust"
    }
   },
   "outputs": [],
   "source": [
    "fn bubble_sort(arr: &mut Vec<i32>) {\n",
    "    let n = arr.len();\n",
    "    for i in 0..n {\n",
    "        for j in 0..(n - i - 1) {\n",
    "            if arr[j] > arr[j + 1] {\n",
    "                arr.swap(j, j + 1);\n",
    "            }\n",
    "        }\n",
    "    }\n",
    "}"
   ]
  },
  {
   "cell_type": "code",
   "execution_count": 6,
   "metadata": {
    "vscode": {
     "languageId": "rust"
    }
   },
   "outputs": [
    {
     "name": "stdout",
     "output_type": "stream",
     "text": [
      "Bubble Sort time: 0.147001878 seconds\n",
      "Bubble Sort is sorted: true\n"
     ]
    }
   ],
   "source": [
    "let mut data_bubble = data.clone();\n",
    "let now = Instant::now();\n",
    "bubble_sort(&mut data_bubble);\n",
    "let bubble_time = now.elapsed();\n",
    "let total_seconds = bubble_time.as_secs() as f64 + bubble_time.subsec_nanos() as f64 / 1e9;\n",
    "println!(\"Bubble Sort time: {} seconds\", total_seconds);\n",
    "println!(\"Bubble Sort is sorted: {}\", is_sorted(&data_bubble));"
   ]
  },
  {
   "cell_type": "markdown",
   "metadata": {},
   "source": [
    "### Merge Sort"
   ]
  },
  {
   "cell_type": "code",
   "execution_count": 7,
   "metadata": {
    "vscode": {
     "languageId": "rust"
    }
   },
   "outputs": [],
   "source": [
    "fn merge_sort(arr: &mut [i32]) {\n",
    "    if arr.len() > 1 {\n",
    "        let mid = arr.len() / 2;\n",
    "        merge_sort(&mut arr[..mid]);\n",
    "        merge_sort(&mut arr[mid..]);\n",
    "        let temp = arr.to_vec();\n",
    "        let mut i = 0;\n",
    "        let mut j = mid;\n",
    "        for k in 0..arr.len() {\n",
    "            if j >= temp.len() || (i < mid && temp[i] < temp[j]) {\n",
    "                arr[k] = temp[i];\n",
    "                i += 1;\n",
    "            } else {\n",
    "                arr[k] = temp[j];\n",
    "                j += 1;\n",
    "            }\n",
    "        }\n",
    "    }\n",
    "}"
   ]
  },
  {
   "cell_type": "code",
   "execution_count": 8,
   "metadata": {
    "vscode": {
     "languageId": "rust"
    }
   },
   "outputs": [
    {
     "name": "stdout",
     "output_type": "stream",
     "text": [
      "Merge Sort time: 0.000937612 seconds\n",
      "Merge Sort is sorted: true\n"
     ]
    }
   ],
   "source": [
    "let mut data_merge = data.clone();\n",
    "let now = Instant::now();\n",
    "merge_sort(&mut data_merge);\n",
    "let merge_time = now.elapsed();\n",
    "let total_seconds = merge_time.as_secs() as f64 + merge_time.subsec_nanos() as f64 / 1e9;\n",
    "println!(\"Merge Sort time: {} seconds\", total_seconds);\n",
    "println!(\"Merge Sort is sorted: {}\", is_sorted(&data_merge));"
   ]
  },
  {
   "cell_type": "markdown",
   "metadata": {},
   "source": [
    "### Quick Sort"
   ]
  },
  {
   "cell_type": "code",
   "execution_count": 9,
   "metadata": {
    "vscode": {
     "languageId": "rust"
    }
   },
   "outputs": [],
   "source": [
    "fn quick_sort(arr: &mut [i32]) {\n",
    "    if arr.len() > 1 {\n",
    "        let pivot = arr[0];\n",
    "        let mut left = Vec::new();\n",
    "        let mut right = Vec::new();\n",
    "        for &x in &arr[1..] {\n",
    "            if x < pivot {\n",
    "                left.push(x);\n",
    "            } else {\n",
    "                right.push(x);\n",
    "            }\n",
    "        }\n",
    "        quick_sort(&mut left);\n",
    "        quick_sort(&mut right);\n",
    "        arr[..left.len()].copy_from_slice(&left);\n",
    "        arr[left.len()] = pivot;\n",
    "        arr[left.len() + 1..].copy_from_slice(&right);\n",
    "    }\n",
    "}"
   ]
  },
  {
   "cell_type": "code",
   "execution_count": 10,
   "metadata": {
    "vscode": {
     "languageId": "rust"
    }
   },
   "outputs": [
    {
     "name": "stdout",
     "output_type": "stream",
     "text": [
      "Quick Sort time: 0.001860907 seconds\n",
      "Quick Sort is sorted: true\n"
     ]
    }
   ],
   "source": [
    "let mut data_quick = data.clone();\n",
    "let now = Instant::now();\n",
    "quick_sort(&mut data_quick);\n",
    "let quick_time = now.elapsed();\n",
    "let total_seconds = quick_time.as_secs() as f64 + quick_time.subsec_nanos() as f64 / 1e9;\n",
    "println!(\"Quick Sort time: {} seconds\", total_seconds);\n",
    "println!(\"Quick Sort is sorted: {}\", is_sorted(&data_quick));"
   ]
  },
  {
   "cell_type": "markdown",
   "metadata": {},
   "source": [
    "### Built-in sort"
   ]
  },
  {
   "cell_type": "code",
   "execution_count": 11,
   "metadata": {
    "vscode": {
     "languageId": "rust"
    }
   },
   "outputs": [
    {
     "name": "stdout",
     "output_type": "stream",
     "text": [
      "Built-in sort time: 0.000432381 seconds\n",
      "Built-in sort is sorted: true\n"
     ]
    }
   ],
   "source": [
    "let mut data_builtin = data.clone();\n",
    "let now = Instant::now();\n",
    "data_builtin.sort();\n",
    "let sorted_time = now.elapsed();\n",
    "let total_seconds = sorted_time.as_secs() as f64 + sorted_time.subsec_nanos() as f64 / 1e9;\n",
    "println!(\"Built-in sort time: {} seconds\", total_seconds);\n",
    "println!(\"Built-in sort is sorted: {}\", is_sorted(&data_builtin));"
   ]
  },
  {
   "cell_type": "code",
   "execution_count": null,
   "metadata": {
    "vscode": {
     "languageId": "rust"
    }
   },
   "outputs": [],
   "source": []
  }
 ],
 "metadata": {
  "kernelspec": {
   "display_name": "Rust",
   "language": "rust",
   "name": "rust"
  },
  "language_info": {
   "codemirror_mode": "rust",
   "file_extension": ".rs",
   "mimetype": "text/rust",
   "name": "Rust",
   "pygment_lexer": "rust",
   "version": ""
  }
 },
 "nbformat": 4,
 "nbformat_minor": 2
}
