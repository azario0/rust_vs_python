{
 "cells": [
  {
   "cell_type": "markdown",
   "metadata": {},
   "source": [
    "# Les imports"
   ]
  },
  {
   "cell_type": "code",
   "execution_count": 8,
   "metadata": {},
   "outputs": [],
   "source": [
    "import random\n",
    "import timeit"
   ]
  },
  {
   "cell_type": "markdown",
   "metadata": {},
   "source": [
    "#### Générer une liste de nombres aléatoires"
   ]
  },
  {
   "cell_type": "code",
   "execution_count": 9,
   "metadata": {},
   "outputs": [],
   "source": [
    "taille_des_données = 10000\n",
    "données = [random.randint(1, 10000) for _ in range(taille_des_données)]"
   ]
  },
  {
   "cell_type": "markdown",
   "metadata": {},
   "source": [
    "### Tri à bulles"
   ]
  },
  {
   "cell_type": "code",
   "execution_count": 10,
   "metadata": {},
   "outputs": [
    {
     "name": "stdout",
     "output_type": "stream",
     "text": [
      "Temps du tri à bulles: 8.084291791001306 secondes\n"
     ]
    }
   ],
   "source": [
    "def tri_bulles(arr):\n",
    "    arr = arr.copy()\n",
    "    n = len(arr)\n",
    "    for i in range(n):\n",
    "        for j in range(0, n-i-1):\n",
    "            if arr[j] > arr[j+1]:\n",
    "                arr[j], arr[j+1] = arr[j+1], arr[j]\n",
    "    return arr\n",
    "\n",
    "\n",
    "temps_bulles = timeit.timeit(lambda: tri_bulles(données), number=1)\n",
    "print(f\"Temps du tri à bulles: {temps_bulles} secondes\")"
   ]
  },
  {
   "cell_type": "markdown",
   "metadata": {},
   "source": [
    "### Tri par fusion"
   ]
  },
  {
   "cell_type": "code",
   "execution_count": 11,
   "metadata": {},
   "outputs": [
    {
     "name": "stdout",
     "output_type": "stream",
     "text": [
      "Temps du tri par fusion: 0.04162377800093964 secondes\n"
     ]
    }
   ],
   "source": [
    "def tri_fusion(arr):\n",
    "    arr = arr.copy()\n",
    "    if len(arr) > 1:\n",
    "        milieu = len(arr) // 2\n",
    "        moitié_gauche = tri_fusion(arr[:milieu])\n",
    "        moitié_droite = tri_fusion(arr[milieu:])\n",
    "        i = j = k = 0\n",
    "        while i < len(moitié_gauche) and j < len(moitié_droite):\n",
    "            if moitié_gauche[i] < moitié_droite[j]:\n",
    "                arr[k] = moitié_gauche[i]\n",
    "                i += 1\n",
    "            else:\n",
    "                arr[k] = moitié_droite[j]\n",
    "                j += 1\n",
    "            k += 1\n",
    "\n",
    "        while i < len(moitié_gauche):\n",
    "            arr[k] = moitié_gauche[i]\n",
    "            i += 1\n",
    "            k += 1\n",
    "\n",
    "        while j < len(moitié_droite):\n",
    "            arr[k] = moitié_droite[j]\n",
    "            j += 1\n",
    "            k += 1\n",
    "    return arr\n",
    "\n",
    "temps_fusion = timeit.timeit(lambda: tri_fusion(données), number=1)\n",
    "print(f\"Temps du tri par fusion: {temps_fusion} secondes\")"
   ]
  },
  {
   "cell_type": "markdown",
   "metadata": {},
   "source": [
    "#### Tri rapide"
   ]
  },
  {
   "cell_type": "code",
   "execution_count": 12,
   "metadata": {},
   "outputs": [
    {
     "name": "stdout",
     "output_type": "stream",
     "text": [
      "Temps du tri rapide: 0.03747008600112167 secondes\n"
     ]
    }
   ],
   "source": [
    "def tri_rapide(arr):\n",
    "    if len(arr) <= 1:\n",
    "        return arr\n",
    "    else:\n",
    "        pivot = arr[0]\n",
    "        moins = [x for x in arr[1:] if x < pivot]\n",
    "        égal = [x for x in arr if x == pivot]\n",
    "        plus = [x for x in arr[1:] if x > pivot]\n",
    "        return tri_rapide(moins) + égal + tri_rapide(plus)\n",
    "\n",
    "temps_rapide = timeit.timeit(lambda: tri_rapide(données), number=1)\n",
    "print(f\"Temps du tri rapide: {temps_rapide} secondes\")"
   ]
  },
  {
   "cell_type": "markdown",
   "metadata": {},
   "source": [
    "#### Tri par la fonction intégrée sorted"
   ]
  },
  {
   "cell_type": "code",
   "execution_count": 13,
   "metadata": {},
   "outputs": [
    {
     "name": "stdout",
     "output_type": "stream",
     "text": [
      "Temps de sorted() intégré: 0.0016010780018405057 secondes\n"
     ]
    }
   ],
   "source": [
    "temps_sorted = timeit.timeit(lambda: sorted(données), number=1)\n",
    "print(f\"Temps de sorted() intégré: {temps_sorted} secondes\")"
   ]
  },
  {
   "cell_type": "code",
   "execution_count": null,
   "metadata": {},
   "outputs": [],
   "source": []
  }
 ],
 "metadata": {
  "kernelspec": {
   "display_name": "Python 3",
   "language": "python",
   "name": "python3"
  },
  "language_info": {
   "codemirror_mode": {
    "name": "ipython",
    "version": 3
   },
   "file_extension": ".py",
   "mimetype": "text/x-python",
   "name": "python",
   "nbconvert_exporter": "python",
   "pygments_lexer": "ipython3",
   "version": "3.10.12"
  }
 },
 "nbformat": 4,
 "nbformat_minor": 2
}
